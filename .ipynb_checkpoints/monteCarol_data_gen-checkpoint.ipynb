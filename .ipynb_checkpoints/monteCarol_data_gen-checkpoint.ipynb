{
 "cells": [
  {
   "cell_type": "markdown",
   "metadata": {},
   "source": [
    "# Generate data using tttAuto.simulation()"
   ]
  },
  {
   "cell_type": "code",
   "execution_count": 1,
   "metadata": {
    "collapsed": true
   },
   "outputs": [],
   "source": [
    "import ipywidgets as widgets\n",
    "from IPython.display import display\n",
    "import random\n",
    "import numpy as np"
   ]
  },
  {
   "cell_type": "code",
   "execution_count": 2,
   "metadata": {
    "collapsed": false
   },
   "outputs": [],
   "source": [
    "from games import tttAuto"
   ]
  },
  {
   "cell_type": "code",
   "execution_count": null,
   "metadata": {
    "collapsed": true
   },
   "outputs": [],
   "source": [
    "def resultToDatabaseRecord(rr):\n",
    "    \"\"\"\n",
    "    \n",
    "    \n",
    "    \"\"\"\n",
    "    ds = []\n",
    "    for i, rx in enumerate(rr[:-1]):\n",
    "\n",
    "        if rr[-1] == 'tie':\n",
    "            s = 0\n",
    "        elif rr[-1] == '0_win' and (i%2) == 0:\n",
    "            s = 1\n",
    "        elif rr[-1] == '0_win' and (i%2) == 1:\n",
    "            s = -1\n",
    "        elif rr[-1] == '1_win' and (i%2) == 0:\n",
    "            s = -1\n",
    "        elif rr[-1] == '1_win' and (i%2) == 1:\n",
    "            s = 1\n",
    "\n",
    "        if i==0:\n",
    "            ds.append([tuple(rr0), rx,s])\n",
    "        else:\n",
    "            rtemp = [-1] * 9\n",
    "            for jx, j in enumerate(rr[i-1::-1]):\n",
    "                if jx%2 == 0:\n",
    "                    rtemp[j] = 1\n",
    "                else:\n",
    "                    rtemp[j] = 0\n",
    "\n",
    "            ds.append([tuple(rtemp), rx,s])\n",
    "    return ds\n",
    "\n",
    "def getScore(t, n, database):\n",
    "    #print n, list(t)[n]\n",
    "    r = [x[2] for x in database if ((x[0] == t) and (x[1]== n))]\n",
    "    if len(r) == 0:\n",
    "        return -1\n",
    "    return np.mean(r) \n",
    "\n",
    "def getScoreTensor(t, totalR):\n",
    "    t1 =  [getScore(t, n ,totalR) for n in range(9)]\n",
    "    n = np.asarray(t1).argmax()\n",
    "    t2 = [0]*9\n",
    "    t2[n] = 1\n",
    "    return t2"
   ]
  },
  {
   "cell_type": "code",
   "execution_count": null,
   "metadata": {
    "collapsed": true
   },
   "outputs": [],
   "source": [
    "t = tttAuto()"
   ]
  },
  {
   "cell_type": "code",
   "execution_count": null,
   "metadata": {
    "collapsed": false
   },
   "outputs": [],
   "source": [
    "r = []\n",
    "for i in range(10000):\n",
    "    t.simulation()\n",
    "    r.append(t.data)"
   ]
  },
  {
   "cell_type": "code",
   "execution_count": null,
   "metadata": {
    "collapsed": false
   },
   "outputs": [],
   "source": [
    "# construct database\n",
    "\n",
    "totalR = []\n",
    "for rr in r:\n",
    "    totalR += resultToDatabaseRecord(rr)"
   ]
  },
  {
   "cell_type": "code",
   "execution_count": null,
   "metadata": {
    "collapsed": false
   },
   "outputs": [],
   "source": [
    "inputUniq =list(set([x[0] for x in totalR]))"
   ]
  },
  {
   "cell_type": "code",
   "execution_count": null,
   "metadata": {
    "collapsed": false
   },
   "outputs": [],
   "source": [
    "len(inputUniq)"
   ]
  },
  {
   "cell_type": "code",
   "execution_count": null,
   "metadata": {
    "collapsed": true
   },
   "outputs": [],
   "source": [
    "outputs = [getScoreTensor(t ,totalR) for t  in  inputUniq]"
   ]
  },
  {
   "cell_type": "code",
   "execution_count": null,
   "metadata": {
    "collapsed": false
   },
   "outputs": [],
   "source": [
    "print len(outputs)"
   ]
  },
  {
   "cell_type": "code",
   "execution_count": null,
   "metadata": {
    "collapsed": true
   },
   "outputs": [],
   "source": [
    "import cPickle"
   ]
  },
  {
   "cell_type": "code",
   "execution_count": null,
   "metadata": {
    "collapsed": true
   },
   "outputs": [],
   "source": [
    "data = [inputUniq,outputs]"
   ]
  },
  {
   "cell_type": "code",
   "execution_count": null,
   "metadata": {
    "collapsed": true
   },
   "outputs": [],
   "source": [
    "fileName = \"ttt_data_for_tf.pkl\"\n",
    "with open(fileName, \"wb\") as output_file:\n",
    "    cPickle.dump(data, output_file)"
   ]
  },
  {
   "cell_type": "code",
   "execution_count": null,
   "metadata": {
    "collapsed": true
   },
   "outputs": [],
   "source": [
    "with open(fileName, \"rb\") as input_file:\n",
    "    data = cPickle.load(input_file)\n"
   ]
  },
  {
   "cell_type": "markdown",
   "metadata": {},
   "source": [
    "# End"
   ]
  }
 ],
 "metadata": {
  "kernelspec": {
   "display_name": "Python 2",
   "language": "python",
   "name": "python2"
  },
  "language_info": {
   "codemirror_mode": {
    "name": "ipython",
    "version": 2
   },
   "file_extension": ".py",
   "mimetype": "text/x-python",
   "name": "python",
   "nbconvert_exporter": "python",
   "pygments_lexer": "ipython2",
   "version": "2.7.13"
  }
 },
 "nbformat": 4,
 "nbformat_minor": 2
}
