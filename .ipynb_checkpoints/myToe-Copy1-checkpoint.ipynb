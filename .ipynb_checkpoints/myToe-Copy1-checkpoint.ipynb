{
 "cells": [
  {
   "cell_type": "code",
   "execution_count": 1,
   "metadata": {
    "collapsed": true
   },
   "outputs": [],
   "source": [
    "import ipywidgets as widgets\n",
    "from IPython.display import display\n",
    "import random"
   ]
  },
  {
   "cell_type": "code",
   "execution_count": 2,
   "metadata": {
    "collapsed": true
   },
   "outputs": [],
   "source": [
    "primeList = [2,3,5,7,11,13,17,19,23]\n",
    "winNumbers=[[0,1,2],[3,4,5],[6,7,8],[0,3,6],[1,4,7],[2,5,8],[0,4,8],[2,4,6]]\n",
    "originalList=range(9)"
   ]
  },
  {
   "cell_type": "code",
   "execution_count": 3,
   "metadata": {
    "collapsed": false
   },
   "outputs": [
    {
     "data": {
      "text/plain": [
       "[30, 1001, 7429, 238, 627, 1495, 506, 935]"
      ]
     },
     "execution_count": 3,
     "metadata": {},
     "output_type": "execute_result"
    }
   ],
   "source": [
    "winPrimes = []\n",
    "for w in winNumbers:\n",
    "    winPrimes.append(reduce(lambda x, y: x*y,[primeList[x] for x in w],1))\n",
    "winPrimes"
   ]
  },
  {
   "cell_type": "code",
   "execution_count": 4,
   "metadata": {
    "collapsed": true
   },
   "outputs": [],
   "source": [
    "humanList=[]\n",
    "computerList=[]\n",
    "buttons = []"
   ]
  },
  {
   "cell_type": "code",
   "execution_count": 5,
   "metadata": {
    "collapsed": false
   },
   "outputs": [],
   "source": [
    "def isWining(L):\n",
    "    if len(L) < 3:\n",
    "        return False\n",
    "    p = reduce(lambda x, y: x*y,[primeList[x] for x in L],1)\n",
    "    if 0 in [p % w for w in winPrimes ]:\n",
    "        return True\n",
    "    else:\n",
    "        return False"
   ]
  },
  {
   "cell_type": "code",
   "execution_count": 6,
   "metadata": {
    "collapsed": false
   },
   "outputs": [
    {
     "data": {
      "text/plain": [
       "True"
      ]
     },
     "execution_count": 6,
     "metadata": {},
     "output_type": "execute_result"
    }
   ],
   "source": [
    "isWining([0,1,2,3])"
   ]
  },
  {
   "cell_type": "code",
   "execution_count": 7,
   "metadata": {
    "collapsed": false
   },
   "outputs": [
    {
     "data": {
      "text/plain": [
       "[]"
      ]
     },
     "execution_count": 7,
     "metadata": {},
     "output_type": "execute_result"
    }
   ],
   "source": [
    "humanList + computerList"
   ]
  },
  {
   "cell_type": "code",
   "execution_count": 8,
   "metadata": {
    "collapsed": false
   },
   "outputs": [],
   "source": [
    "def disableAll():\n",
    "    for b in buttons:\n",
    "        b.disabled = True"
   ]
  },
  {
   "cell_type": "code",
   "execution_count": 9,
   "metadata": {
    "collapsed": false
   },
   "outputs": [],
   "source": [
    "def computerNext(humanList, computerList ):\n",
    "    a = [x for x in originalList if x not in  (humanList + computerList) ]\n",
    "    if len(a) == 0:\n",
    "        return -1\n",
    "    n = random.choice(a)\n",
    "    return n\n"
   ]
  },
  {
   "cell_type": "code",
   "execution_count": 10,
   "metadata": {
    "collapsed": false
   },
   "outputs": [],
   "source": [
    "def t(n):\n",
    "    global humanList\n",
    "    \n",
    "    def f(b):\n",
    "        # print n\n",
    "        humanList.append(n)\n",
    "        buttons[n].description=\"X\"\n",
    "        buttons[n].disabled = True\n",
    "        if isWining(humanList):\n",
    "            print \"human wins\"\n",
    "            disableAll()\n",
    "            return \n",
    "        a = computerNext(humanList, computerList)\n",
    "        buttons[a].description=\"O\"\n",
    "        buttons[a].disabled = True\n",
    "        computerList.append(a)\n",
    "        if isWining(computerList):\n",
    "            print \"computer wins\"\n",
    "            disableAll()\n",
    "            return\n",
    "        if len(humanList+computerList) == 9:\n",
    "            print \"tie\"\n",
    "            return\n",
    "        #print b\n",
    "    return f\n",
    "    "
   ]
  },
  {
   "cell_type": "code",
   "execution_count": 20,
   "metadata": {
    "collapsed": true
   },
   "outputs": [],
   "source": [
    "startButton = widgets.Button(\n",
    "    description='Start',\n",
    "    width=50, # Integers are interpreted as pixel measurements.\n",
    "    height='5em', # em is valid HTML unit of measurement.\n",
    "    color='red', # Colors can be set by name,\n",
    "    background_color='#000000',\n",
    "    # and also by color code.\n",
    "    border_color='black')"
   ]
  },
  {
   "cell_type": "code",
   "execution_count": 22,
   "metadata": {
    "collapsed": true
   },
   "outputs": [],
   "source": [
    "def startProg(b):\n",
    "    resetAll()\n",
    "startButton.on_click(startProg)"
   ]
  },
  {
   "cell_type": "code",
   "execution_count": null,
   "metadata": {
    "collapsed": true
   },
   "outputs": [],
   "source": [
    "def resetAll():\n",
    "    global buttons, humanList, computerList\n",
    "\n",
    "    humanList=[]\n",
    "    computerList=[]\n",
    "    for i, b in enumerate(buttons):\n",
    "        b.description = \"\"\n",
    "        b.disabled= False\n"
   ]
  },
  {
   "cell_type": "code",
   "execution_count": 23,
   "metadata": {
    "collapsed": true
   },
   "outputs": [],
   "source": [
    "buttons = [\n",
    "        widgets.Button(\n",
    "            description=\"\", #str(i),\n",
    "            height='7em',\n",
    "            font_size=20,\n",
    "            disabled= False\n",
    "    ) for i in range(9)]\n",
    "\n",
    "for i, b in enumerate(buttons):\n",
    "    b.on_click(t(i))"
   ]
  },
  {
   "cell_type": "code",
   "execution_count": 24,
   "metadata": {
    "collapsed": false
   },
   "outputs": [
    {
     "name": "stdout",
     "output_type": "stream",
     "text": [
      "human win\n",
      "human win\n",
      "human win\n",
      "human win\n",
      "computer win\n"
     ]
    }
   ],
   "source": [
    "r1 = widgets.HBox(children=buttons[:3])\n",
    "r2 = widgets.HBox(children=buttons[3:6])\n",
    "r3 = widgets.HBox(children=buttons[6:9])\n",
    "r4 = widgets.HBox(children=[startButton])\n",
    "display(widgets.VBox(children=[r1,r2,r3,r4]))"
   ]
  },
  {
   "cell_type": "markdown",
   "metadata": {},
   "source": [
    "# End"
   ]
  }
 ],
 "metadata": {
  "kernelspec": {
   "display_name": "Python 2",
   "language": "python",
   "name": "python2"
  },
  "language_info": {
   "codemirror_mode": {
    "name": "ipython",
    "version": 2
   },
   "file_extension": ".py",
   "mimetype": "text/x-python",
   "name": "python",
   "nbconvert_exporter": "python",
   "pygments_lexer": "ipython2",
   "version": "2.7.13"
  },
  "widgets": {
   "state": {
    "8381fa9b66d94a5f952929b057f97df1": {
     "views": [
      {
       "cell_index": 13
      }
     ]
    }
   },
   "version": "1.2.0"
  }
 },
 "nbformat": 4,
 "nbformat_minor": 2
}
