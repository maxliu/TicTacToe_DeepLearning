{
 "cells": [
  {
   "cell_type": "code",
   "execution_count": 1,
   "metadata": {
    "collapsed": false
   },
   "outputs": [],
   "source": [
    "import tensorflow as tf\n",
    "import cPickle"
   ]
  },
  {
   "cell_type": "code",
   "execution_count": 2,
   "metadata": {
    "collapsed": false
   },
   "outputs": [
    {
     "name": "stdout",
     "output_type": "stream",
     "text": [
      "Hello, TensorFlow!\n"
     ]
    }
   ],
   "source": [
    "hello = tf.constant('Hello, TensorFlow!')\n",
    "sess = tf.Session()\n",
    "print(sess.run(hello))"
   ]
  },
  {
   "cell_type": "code",
   "execution_count": 3,
   "metadata": {
    "collapsed": false
   },
   "outputs": [],
   "source": [
    "\n",
    "# Import Numpy, TensorFlow, TFLearn, and MNIST data\n",
    "import numpy as np\n",
    "import tensorflow as tf\n",
    "import tflearn\n",
    "import tflearn.datasets.mnist as mnist"
   ]
  },
  {
   "cell_type": "code",
   "execution_count": 4,
   "metadata": {
    "collapsed": false
   },
   "outputs": [],
   "source": [
    "from sklearn.utils.testing import assert_array_equal\n",
    "\n",
    "from sklearn.pipeline import Pipeline\n",
    "from sklearn.feature_selection import SelectKBest, f_regression\n",
    "import numpy as np\n",
    "import pandas as pd\n",
    "# from rpropClassfier import RPClassifier"
   ]
  },
  {
   "cell_type": "code",
   "execution_count": 28,
   "metadata": {
    "collapsed": false
   },
   "outputs": [],
   "source": [
    "from __future__ import division\n",
    "import numpy as np\n",
    "\n",
    "from sklearn.base import BaseEstimator, ClassifierMixin\n",
    "\n",
    "from pybrain.tools.shortcuts import buildNetwork\n",
    "from pybrain.supervised.trainers import RPropMinusTrainer\n",
    "from pybrain.datasets.supervised import SupervisedDataSet\n",
    "\n",
    "from math import sqrt\n",
    "\n",
    "class RPClassifier(BaseEstimator, ClassifierMixin):\n",
    "    \"\"\"A network classifier with RPropMinusTrainer in PYbrain\n",
    "    prarameters\n",
    "    -----------\n",
    "    h_size : interger, default = 2.\n",
    "        Number of neurons in hidden layer.\n",
    "    epo :  interger, default = 2.\n",
    "       Train on the current dataset for the given number of epochs.\n",
    "    verbose: interger, default = 2\n",
    "            Controls the verbosity of the network building process.\n",
    "    Attributes\n",
    "    ----------\n",
    "    in_size : interger.\n",
    "        The number of input array columns. This will be number of\n",
    "        neurons in input layer.\n",
    "    out_size : interger\n",
    "        The number of label arrya columns. this will be the number of\n",
    "        neurons in output layer.\n",
    "    net : the network.\n",
    "    references\n",
    "    ----------\n",
    "    PyBrain document\n",
    "    http://pybrain.org/docs/index.html\n",
    "    \"\"\"\n",
    "\n",
    "    def __init__(self, h_size=2, epo=2, verbose=0):\n",
    "        self.h_size = h_size\n",
    "        self.epo = epo\n",
    "        self.verbose = verbose\n",
    "        pass\n",
    "\n",
    "    def fit(self, X, y):\n",
    "        \"\"\" build a network from training set (X, y).\n",
    "        parameters\n",
    "        ----------\n",
    "        X : array-like or sparse matrix of shape = [n_samples, n_features]\n",
    "        y : array-like, shape = [n_samples] or [n_samples, n_output]\n",
    "        return\n",
    "        ------\n",
    "        self : object\n",
    "        \"\"\"\n",
    "\n",
    "        y_train = np.array( y)\n",
    "        _, self.in_size = X.shape\n",
    "        _, self.out_size = y_train.shape\n",
    "\n",
    "        ds = SupervisedDataSet(self.in_size, self.out_size)\n",
    "\n",
    "        ds.setField('input', X)\n",
    "        ds.setField('target', y_train)\n",
    "\n",
    "        self.net = buildNetwork(self.in_size,\n",
    "                                self.h_size, self.out_size, bias=True)\n",
    "        trainer = RPropMinusTrainer(self.net, dataset=ds)\n",
    "\n",
    "        if self.verbose > 0:\n",
    "            print (\"start training ...\")\n",
    "\n",
    "        for n in xrange(self.epo):\n",
    "            mse = trainer.train()\n",
    "            rmse = sqrt(mse)\n",
    "            if self.verbose > 0:\n",
    "                print (\"RMSE = %8.3f epoch = %d\" % (rmse, n))\n",
    "        return self\n",
    "\n",
    "    def predict(self, X):\n",
    "        \"\"\"Predict class for X.\n",
    "        Parameters\n",
    "        ----------\n",
    "        X : array-like or sparse matrix of shape = [n_samples, n_features]\n",
    "        Returns\n",
    "        -------\n",
    "        y : array-like, shape = [n_samples] or [n_samples, n_output]\n",
    "        \"\"\"\n",
    "        # TODO for multi output classes\n",
    "        p = self.predict_proba(X)\n",
    "        p_class = np.array([1 if pn > 0.5 else 0 for pn in p])\n",
    "        return p_class\n",
    "\n",
    "    def predict_proba(self, X):\n",
    "        \"\"\"Predict class probabilities for X.\n",
    "        Parameters\n",
    "        ----------\n",
    "        X : array-like or sparse matrix of shape = [n_samples, n_features]\n",
    "        Returns\n",
    "        -------\n",
    "        p : array-like, shape = [n_samples] or [n_samples, n_output]\n",
    "        \"\"\"\n",
    "\n",
    "        row_size, in_size = X.shape\n",
    "\n",
    "        y_test_dumy = np.zeros([row_size, self.out_size])\n",
    "\n",
    "        # check size\n",
    "        assert(self.net.indim == in_size)\n",
    "\n",
    "        ds = SupervisedDataSet(in_size, self.out_size)\n",
    "\n",
    "        ds.setField('input', X)\n",
    "        ds.setField('target', y_test_dumy)\n",
    "\n",
    "        p = self.net.activateOnDataset(ds)\n",
    "        return np.array(p)"
   ]
  },
  {
   "cell_type": "code",
   "execution_count": 29,
   "metadata": {
    "collapsed": true
   },
   "outputs": [],
   "source": [
    "fileName = \"ttt_data_for_tf.pkl\""
   ]
  },
  {
   "cell_type": "code",
   "execution_count": 30,
   "metadata": {
    "collapsed": false
   },
   "outputs": [],
   "source": [
    "with open(fileName, \"rb\") as input_file:\n",
    "    data = cPickle.load(input_file)"
   ]
  },
  {
   "cell_type": "code",
   "execution_count": 31,
   "metadata": {
    "collapsed": false
   },
   "outputs": [],
   "source": [
    "\n",
    "# Retrieve the training and test data\n",
    "trainX0, trainY0= data"
   ]
  },
  {
   "cell_type": "code",
   "execution_count": 32,
   "metadata": {
    "collapsed": false
   },
   "outputs": [
    {
     "data": {
      "text/plain": [
       "array([[ 0, -1,  1,  1,  0, -1, -1,  0,  1],\n",
       "       [ 1,  0,  1, -1,  1,  0, -1, -1,  0],\n",
       "       [-1,  1, -1,  0, -1,  1, -1,  0, -1],\n",
       "       [-1,  1, -1, -1,  1,  0,  0, -1, -1]])"
      ]
     },
     "execution_count": 32,
     "metadata": {},
     "output_type": "execute_result"
    }
   ],
   "source": [
    "trainX = np.asarray([list(x) for x in trainX0])\n",
    "trainX[:4]"
   ]
  },
  {
   "cell_type": "code",
   "execution_count": 33,
   "metadata": {
    "collapsed": false
   },
   "outputs": [],
   "source": [
    "trainX =  np.apply_along_axis(lambda x: (x+1.0)/2.0, -1,trainX)"
   ]
  },
  {
   "cell_type": "code",
   "execution_count": 34,
   "metadata": {
    "collapsed": true
   },
   "outputs": [],
   "source": [
    "trainY = np.asarray(trainY0)"
   ]
  },
  {
   "cell_type": "code",
   "execution_count": 35,
   "metadata": {
    "collapsed": false
   },
   "outputs": [
    {
     "data": {
      "text/plain": [
       "9"
      ]
     },
     "execution_count": 35,
     "metadata": {},
     "output_type": "execute_result"
    }
   ],
   "source": [
    "trainX.shape[1]"
   ]
  },
  {
   "cell_type": "code",
   "execution_count": 36,
   "metadata": {
    "collapsed": false
   },
   "outputs": [
    {
     "data": {
      "text/plain": [
       "array([[ 0.5,  0. ,  1. , ...,  0. ,  0.5,  1. ],\n",
       "       [ 1. ,  0.5,  1. , ...,  0. ,  0. ,  0.5],\n",
       "       [ 0. ,  1. ,  0. , ...,  0. ,  0.5,  0. ],\n",
       "       ..., \n",
       "       [ 0.5,  0.5,  0. , ...,  0. ,  1. ,  1. ],\n",
       "       [ 0.5,  0. ,  1. , ...,  0. ,  0.5,  0. ],\n",
       "       [ 1. ,  1. ,  0. , ...,  0.5,  0.5,  0. ]])"
      ]
     },
     "execution_count": 36,
     "metadata": {},
     "output_type": "execute_result"
    }
   ],
   "source": [
    "trainX"
   ]
  },
  {
   "cell_type": "code",
   "execution_count": 37,
   "metadata": {
    "collapsed": false
   },
   "outputs": [
    {
     "data": {
      "text/plain": [
       "array([[0, 1, 0, ..., 0, 0, 0],\n",
       "       [0, 0, 0, ..., 1, 0, 0],\n",
       "       [0, 0, 0, ..., 1, 0, 0],\n",
       "       ..., \n",
       "       [0, 0, 0, ..., 0, 0, 0],\n",
       "       [0, 0, 0, ..., 0, 0, 0],\n",
       "       [0, 0, 1, ..., 0, 0, 0]])"
      ]
     },
     "execution_count": 37,
     "metadata": {},
     "output_type": "execute_result"
    }
   ],
   "source": [
    "trainY"
   ]
  },
  {
   "cell_type": "code",
   "execution_count": null,
   "metadata": {
    "collapsed": false
   },
   "outputs": [
    {
     "name": "stdout",
     "output_type": "stream",
     "text": [
      "start training ...\n",
      "RMSE =    1.668 epoch = 0\n",
      "RMSE =    1.127 epoch = 1\n",
      "RMSE =    0.713 epoch = 2\n",
      "RMSE =    0.450 epoch = 3\n",
      "RMSE =    0.485 epoch = 4\n",
      "RMSE =    0.418 epoch = 5\n",
      "RMSE =    0.362 epoch = 6\n",
      "RMSE =    0.357 epoch = 7\n",
      "RMSE =    0.317 epoch = 8\n",
      "RMSE =    0.297 epoch = 9\n",
      "RMSE =    0.296 epoch = 10\n",
      "RMSE =    0.278 epoch = 11\n",
      "RMSE =    0.272 epoch = 12\n",
      "RMSE =    0.262 epoch = 13\n",
      "RMSE =    0.251 epoch = 14\n",
      "RMSE =    0.250 epoch = 15\n",
      "RMSE =    0.242 epoch = 16\n",
      "RMSE =    0.241 epoch = 17\n",
      "RMSE =    0.238 epoch = 18\n",
      "RMSE =    0.236 epoch = 19\n",
      "RMSE =    0.232 epoch = 20\n"
     ]
    }
   ],
   "source": [
    "bpc = RPClassifier(h_size=10, epo=50,verbose=1)\n",
    "bpc.fit(trainX, trainY)\n"
   ]
  },
  {
   "cell_type": "code",
   "execution_count": 44,
   "metadata": {
    "collapsed": false
   },
   "outputs": [
    {
     "data": {
      "text/plain": [
       "array([ 0.5,  0. ,  1. ,  1. ,  0.5,  0. ,  0. ,  0.5,  1. ])"
      ]
     },
     "execution_count": 44,
     "metadata": {},
     "output_type": "execute_result"
    }
   ],
   "source": [
    "trainX[0]"
   ]
  },
  {
   "cell_type": "code",
   "execution_count": 46,
   "metadata": {
    "collapsed": false
   },
   "outputs": [],
   "source": [
    "p = bpc.predict_proba(trainX)"
   ]
  },
  {
   "cell_type": "code",
   "execution_count": 48,
   "metadata": {
    "collapsed": true
   },
   "outputs": [],
   "source": [
    "actual = trainY.argmax(axis=1)\n",
    "predictions = p.argmax(axis=1)"
   ]
  },
  {
   "cell_type": "code",
   "execution_count": 50,
   "metadata": {
    "collapsed": false
   },
   "outputs": [
    {
     "data": {
      "text/plain": [
       "array([1, 6, 6, ..., 3, 3, 2])"
      ]
     },
     "execution_count": 50,
     "metadata": {},
     "output_type": "execute_result"
    }
   ],
   "source": [
    "actual"
   ]
  },
  {
   "cell_type": "code",
   "execution_count": 51,
   "metadata": {
    "collapsed": false
   },
   "outputs": [
    {
     "data": {
      "text/plain": [
       "array([0, 0, 0, ..., 0, 0, 0])"
      ]
     },
     "execution_count": 51,
     "metadata": {},
     "output_type": "execute_result"
    }
   ],
   "source": [
    "predictions"
   ]
  },
  {
   "cell_type": "code",
   "execution_count": 49,
   "metadata": {
    "collapsed": false
   },
   "outputs": [
    {
     "name": "stdout",
     "output_type": "stream",
     "text": [
      "('Test accuracy: ', 0.23865397387646667)\n"
     ]
    }
   ],
   "source": [
    "test_accuracy = np.mean(predictions == actual, axis=0)\n",
    "\n",
    "# Print out the result\n",
    "print(\"Test accuracy: \", test_accuracy)"
   ]
  },
  {
   "cell_type": "code",
   "execution_count": null,
   "metadata": {
    "collapsed": true
   },
   "outputs": [],
   "source": [
    "# Define the neural network\n",
    "def build_model():\n",
    "    # This resets all parameters and variables, leave this here\n",
    "    tf.reset_default_graph()\n",
    "    \n",
    "    # Inputs\n",
    "    net = tflearn.input_data([None, trainX.shape[1]],dtype=tf.float32)\n",
    "\n",
    "    # Hidden layer(s)\n",
    "    net = tflearn.fully_connected(net, 10, activation='ReLU')\n",
    "\n",
    "    # Output layer and training model\n",
    "    net = tflearn.fully_connected(net, trainY.shape[1], activation='softmax')\n",
    "    net = tflearn.regression(net, optimizer='adam', learning_rate=0.01, loss='categorical_crossentropy')\n",
    "    # softmax\n",
    "    # ReLU\n",
    "    # categorical_crossentropy\n",
    "    #sgd adam\n",
    "    model = tflearn.DNN(net)\n",
    "    return model"
   ]
  },
  {
   "cell_type": "code",
   "execution_count": null,
   "metadata": {
    "collapsed": false
   },
   "outputs": [],
   "source": [
    "\n",
    "# Build the model\n",
    "model = build_model()"
   ]
  },
  {
   "cell_type": "code",
   "execution_count": null,
   "metadata": {
    "collapsed": false
   },
   "outputs": [],
   "source": [
    "# Training\n",
    "model.fit(trainX, trainY, validation_set=0.01, show_metric=True, batch_size=5, n_epoch=5)"
   ]
  },
  {
   "cell_type": "code",
   "execution_count": null,
   "metadata": {
    "collapsed": false
   },
   "outputs": [],
   "source": [
    "# Compare the labels that our model predicts with the actual labels\n",
    "\n",
    "# Find the indices of the most confident prediction for each item. That tells us the predicted digit for that sample.\n",
    "predictions = np.array(model.predict(trainX)).argmax(axis=1)\n",
    "\n",
    "# Calculate the accuracy, which is the percentage of times the predicated labels matched the actual labels\n",
    "actual = trainY.argmax(axis=1)\n",
    "test_accuracy = np.mean(predictions == actual, axis=0)\n",
    "\n",
    "# Print out the result\n",
    "print(\"Test accuracy: \", test_accuracy)"
   ]
  },
  {
   "cell_type": "code",
   "execution_count": null,
   "metadata": {
    "collapsed": false
   },
   "outputs": [],
   "source": [
    "n=200\n",
    "print trainX[n]\n",
    "print trainY[n]\n",
    "model.predict([trainX[n]])"
   ]
  },
  {
   "cell_type": "code",
   "execution_count": null,
   "metadata": {
    "collapsed": false
   },
   "outputs": [],
   "source": [
    "model.predict([trainX[1000]])"
   ]
  },
  {
   "cell_type": "code",
   "execution_count": null,
   "metadata": {
    "collapsed": false
   },
   "outputs": [],
   "source": [
    "predictions"
   ]
  },
  {
   "cell_type": "code",
   "execution_count": null,
   "metadata": {
    "collapsed": true
   },
   "outputs": [],
   "source": []
  },
  {
   "cell_type": "code",
   "execution_count": null,
   "metadata": {
    "collapsed": true
   },
   "outputs": [],
   "source": []
  }
 ],
 "metadata": {
  "kernelspec": {
   "display_name": "Python 2",
   "language": "python",
   "name": "python2"
  },
  "language_info": {
   "codemirror_mode": {
    "name": "ipython",
    "version": 2
   },
   "file_extension": ".py",
   "mimetype": "text/x-python",
   "name": "python",
   "nbconvert_exporter": "python",
   "pygments_lexer": "ipython2",
   "version": "2.7.13"
  }
 },
 "nbformat": 4,
 "nbformat_minor": 2
}
