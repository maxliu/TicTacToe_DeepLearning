{
 "cells": [
  {
   "cell_type": "code",
   "execution_count": 2,
   "metadata": {
    "collapsed": true
   },
   "outputs": [],
   "source": [
    "import ipywidgets as widgets\n",
    "from IPython.display import display\n",
    "import random"
   ]
  },
  {
   "cell_type": "code",
   "execution_count": 58,
   "metadata": {
    "collapsed": false
   },
   "outputs": [],
   "source": [
    "class ttt(object):\n",
    "    \n",
    "    originalList=range(9)\n",
    "    winNumbers=[[0,1,2],[3,4,5],[6,7,8],[0,3,6],[1,4,7],[2,5,8],[0,4,8],[2,4,6]]\n",
    "    primeList = [2,3,5,7,11,13,17,19,23]\n",
    "    winPrimes = [reduce(lambda x, y: x*y,[primeList[x] for x in w],1) for w in winNumbers]\n",
    "\n",
    "    \n",
    "    def __init__(self, computerNext=None):\n",
    "        self.humanList=[]\n",
    "        self.computerList=[]\n",
    "        self.buttons = [\n",
    "            widgets.Button(\n",
    "                description=\"\", #str(i),\n",
    "                height='7em',\n",
    "                font_size=20,\n",
    "                disabled= False\n",
    "            ) for i in range(9)]\n",
    "        \n",
    "        for i, b in enumerate(self.buttons):\n",
    "            b.on_click(self.t(i))\n",
    "        \n",
    "        \n",
    "        self.startButton = widgets.Button(\n",
    "            description='Reset_Human_First',\n",
    "            width=50, # Integers are interpreted as pixel measurements.\n",
    "            height='3em', # em is valid HTML unit of measurement.\n",
    "            color='red', # Colors can be set by name,\n",
    "            background_color='#000000',\n",
    "            # and also by color code.\n",
    "            border_color='black')\n",
    "        \n",
    "        self.startButton.on_click(self.startProg)\n",
    "        \n",
    "        \n",
    "        \n",
    "        if computerNext is not None :\n",
    "            self.computerNext = computerNext\n",
    "        else:\n",
    "            self.computerNext = self.computerNextRandom\n",
    "        \n",
    "        self.computerFirstButton = widgets.Button(\n",
    "            description='Reset_Computer_First',\n",
    "            width=50, # Integers are interpreted as pixel measurements.\n",
    "            height='3em', # em is valid HTML unit of measurement.\n",
    "            color='red', # Colors can be set by name,\n",
    "            background_color='#000000',\n",
    "            # and also by color code.\n",
    "            border_color='black')\n",
    "        \n",
    "        self.computerFirstButton.on_click(self.startComputerFisrt)\n",
    "        \n",
    "    \n",
    "    def t(self, n):\n",
    "    \n",
    "        def f(b):\n",
    "            # print n\n",
    "            self.humanList.append(n)\n",
    "            self.buttons[n].description=\"X\"\n",
    "            self.buttons[n].disabled = True\n",
    "            if self.isWining(self.humanList):\n",
    "                print \"human wins\"\n",
    "                self.disableAll()\n",
    "                return \n",
    "            a = self.computerNext(self.humanList, self.computerList)\n",
    "            self.buttons[a].description=\"O\"\n",
    "            self.buttons[a].disabled = True\n",
    "            self.computerList.append(a)\n",
    "            if self.isWining(self.computerList):\n",
    "                print \"computer wins\"\n",
    "                self.disableAll()\n",
    "                return\n",
    "            if len(self.humanList + self.computerList) == 9:\n",
    "                print \"tie\"\n",
    "                return\n",
    "            #print b\n",
    "        return f\n",
    "    \n",
    "    \n",
    "    def isWining(self, L):\n",
    "        if len(L) < 3:\n",
    "            return False\n",
    "        p = reduce(lambda x, y: x*y,[ttt.primeList[x] for x in L],1)\n",
    "        if 0 in [p % w for w in ttt.winPrimes ]:\n",
    "            return True\n",
    "        else:\n",
    "            return False\n",
    "   \n",
    "    def disableAll(self):\n",
    "        for b in self.buttons:\n",
    "            b.disabled = True\n",
    "            \n",
    "    def computerNextRandom(self, humanList, computerList ):\n",
    "        a = [x for x in ttt.originalList if x not in  (self.humanList + self.computerList) ]\n",
    "        if len(a) == 0:\n",
    "            return -1\n",
    "        n = random.choice(a)\n",
    "        return n\n",
    "    \n",
    "    def showBoard(self):\n",
    "        r1 = widgets.HBox(children=self.buttons[:3])\n",
    "        r2 = widgets.HBox(children=self.buttons[3:6])\n",
    "        r3 = widgets.HBox(children=self.buttons[6:9])\n",
    "        r4 = widgets.HBox(children=[self.startButton, self.computerFirstButton])\n",
    "        display(widgets.VBox(children=[r1,r2,r3,r4]))\n",
    "    \n",
    "    def startProg(self,b):\n",
    "        self.resetAll()\n",
    "\n",
    "    \n",
    "    def startComputerFisrt(self,b):\n",
    "        self.resetAll()\n",
    "        a = self.computerNext(self.humanList, self.computerList)\n",
    "        self.buttons[a].description=\"O\"\n",
    "        self.buttons[a].disabled = True\n",
    "        self.computerList.append(a)\n",
    "        \n",
    "        \n",
    "    def resetAll(self):\n",
    "\n",
    "        self.humanList=[]\n",
    "        self.computerList=[]\n",
    "        for b in self.buttons:\n",
    "            b.description = \"\"\n",
    "            b.disabled= False\n",
    "    \n"
   ]
  },
  {
   "cell_type": "code",
   "execution_count": 69,
   "metadata": {
    "collapsed": true
   },
   "outputs": [],
   "source": [
    "def computerNextRandom2(humanList, computerList ):\n",
    "    a = [x for x in ttt.originalList if x not in  (humanList + computerList) ]\n",
    "    if len(a) == 0:\n",
    "        return -1\n",
    "    n = random.choice(a)\n",
    "    return n\n",
    "    "
   ]
  },
  {
   "cell_type": "code",
   "execution_count": 70,
   "metadata": {
    "collapsed": false
   },
   "outputs": [],
   "source": [
    "t =ttt(computerNextRandom2)"
   ]
  },
  {
   "cell_type": "code",
   "execution_count": 71,
   "metadata": {
    "collapsed": false
   },
   "outputs": [
    {
     "name": "stdout",
     "output_type": "stream",
     "text": [
      "this is random 2\n",
      "this is random 2\n",
      "human wins\n"
     ]
    }
   ],
   "source": [
    "t.showBoard()"
   ]
  },
  {
   "cell_type": "markdown",
   "metadata": {},
   "source": [
    "# End"
   ]
  }
 ],
 "metadata": {
  "kernelspec": {
   "display_name": "Python 2",
   "language": "python",
   "name": "python2"
  },
  "language_info": {
   "codemirror_mode": {
    "name": "ipython",
    "version": 2
   },
   "file_extension": ".py",
   "mimetype": "text/x-python",
   "name": "python",
   "nbconvert_exporter": "python",
   "pygments_lexer": "ipython2",
   "version": "2.7.13"
  },
  "widgets": {
   "state": {
    "f33d39b4395a4c8d810033b0c6d31ea8": {
     "views": [
      {
       "cell_index": 4
      }
     ]
    }
   },
   "version": "1.2.0"
  }
 },
 "nbformat": 4,
 "nbformat_minor": 2
}
